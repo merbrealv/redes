{
 "cells": [
  {
   "cell_type": "markdown",
   "metadata": {},
   "source": [
    "# Análisis de factores de transcripción : Red Transcripcional\n",
    "\n",
    "* Autores: Mercedes Brenes Álvarez-Elena Cortés Tapias\n",
    "* Fecha: Noviembre 2019\n",
    "* Contacto: mebreal@gmail.com - elena.cortes.t@gmail.com\n"
   ]
  },
  {
   "cell_type": "markdown",
   "metadata": {},
   "source": [
    "# 1. Introducción y objetivos"
   ]
  },
  {
   "cell_type": "markdown",
   "metadata": {},
   "source": [
    "Las redes de corregulación permiten conocer si los genes que se coexpresan mantienen también relaciones de regulación. Esta redes de corregulación se forman a partir de análisis de ChIP-Seq. \n",
    "Cuando analizamos un factor de transcripción podemos obtener sus genes dianas. Si este análisis se repite para varios factores podemos obtener una red e corregulación. Esta red sera dirigida donde un factor de transcripción se une a un promotor, provocando la expresión de un gen. Incluso se podría dar el caso de interferir con una ruta metabólica y conseguir una integración de ambas rutas. "
   ]
  },
  {
   "cell_type": "markdown",
   "metadata": {},
   "source": [
    "El objetivo del proyecto es conocer los genes diana de diez factores de transcripción de *Arabidopsis thaliana*. Con estos genes diana se formará una red de corregulación. "
   ]
  },
  {
   "cell_type": "markdown",
   "metadata": {},
   "source": [
    "# 2. Factores de transcripción"
   ]
  },
  {
   "cell_type": "markdown",
   "metadata": {},
   "source": [
    "En el siguiente apartado presentamos la función de los factores de transcripción de *Arabidopsis thaliana* elegidos. Además, adjuntamos el archivo de parámetros de cada uno donde se encuentran los SRA de cada muestra."
   ]
  },
  {
   "cell_type": "markdown",
   "metadata": {},
   "source": [
    "- LFY: Factor implicado en el inicio de la floración. [Factor LFY](params_1.sh)\n"
   ]
  },
  {
   "cell_type": "markdown",
   "metadata": {},
   "source": [
    "- MYB3R3: Es un factor implicado en el ciclo celular. Se asocia a la duplicación de ADN y a genes implicados en la fase G2 y mitosis del ciclo. [Factor MYB3R3](params_2.sh)"
   ]
  },
  {
   "cell_type": "markdown",
   "metadata": {},
   "source": [
    "- PRR5: Participa en el ciclo circadiano. [Factor PRR5](params_3.sh)"
   ]
  },
  {
   "cell_type": "markdown",
   "metadata": {},
   "source": [
    "- TOC1: Controla los elementos oscilatorios del ciclo circadiano mediante represión.[Factor TOC1](params_4.sh)"
   ]
  },
  {
   "cell_type": "markdown",
   "metadata": {},
   "source": [
    "- LEC1: Factor implicado en el desarrollo de la semilla. Se centra en la fase de maduración donde se acumulan macromoléculas.  [Factor LEC1](params_5.sh)"
   ]
  },
  {
   "cell_type": "markdown",
   "metadata": {},
   "source": [
    "- FUL: Es un factor implicado en el desarrollo del pistilo. [Factor FUL](params_6.sh)\n"
   ]
  },
  {
   "cell_type": "markdown",
   "metadata": {},
   "source": [
    "- TCP4: Participa en la fotomorfogénesis y ayuda a la apertura del cotiledón.[Factor TCP4](params_7.sh)"
   ]
  },
  {
   "cell_type": "markdown",
   "metadata": {},
   "source": [
    "- ENAP-1: Este factor participa en la respuesta a etileno.[Factor ENAP-1](params_8.sh)"
   ]
  },
  {
   "cell_type": "markdown",
   "metadata": {},
   "source": [
    "- PIF50x: Participa en la respuesta adaptativa de las plantas al ambiente [Factor PIFSOX](params_9.sh)"
   ]
  },
  {
   "cell_type": "markdown",
   "metadata": {},
   "source": [
    "- LHY: Es otro factor del ciclo circadiano relacionado con los componentes oscilatorios. [Factor LHY](params_10.sh)"
   ]
  },
  {
   "cell_type": "markdown",
   "metadata": {},
   "source": [
    "# 3. Resultados : Red corregulación"
   ]
  },
  {
   "cell_type": "markdown",
   "metadata": {},
   "source": [
    "# Aqui poner lo que es libre de escala cuando tengamos ese dato. Y bueno poner la visualizacion de la red , lo que salga de R. Comentar un poco"
   ]
  },
  {
   "cell_type": "markdown",
   "metadata": {},
   "source": [
    "# 4. Conclusiones"
   ]
  },
  {
   "cell_type": "markdown",
   "metadata": {},
   "source": [
    " # Nadie sabe muy bien que poner, hemos dicho de poner un resumen de introduccion en plan de lo que es una red y que la hemos obtenido. Y poner un resumen de los resultados. "
   ]
  },
  {
   "cell_type": "markdown",
   "metadata": {},
   "source": [
    "# 5. Bibliografía"
   ]
  },
  {
   "cell_type": "markdown",
   "metadata": {},
   "source": [
    "# Serian los diez paper y los paquetes de R\n",
    "\n",
    "- Adams S, Grundy J, Veflingstad SR, Dyer NP et al. Circadian control of abscisic acid biosynthesis and signalling pathways revealed by genome-wide analysis of LHY binding targets. New Phytol 2018 Nov;220(3):893-907.\n",
    "- Paquetes de R:"
   ]
  }
 ],
 "metadata": {
  "kernelspec": {
   "display_name": "R",
   "language": "R",
   "name": "ir"
  },
  "language_info": {
   "codemirror_mode": "r",
   "file_extension": ".r",
   "mimetype": "text/x-r-source",
   "name": "R",
   "pygments_lexer": "r",
   "version": "3.6.2"
  }
 },
 "nbformat": 4,
 "nbformat_minor": 2
}
